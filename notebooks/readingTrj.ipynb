{
 "cells": [
  {
   "cell_type": "code",
   "execution_count": 1,
   "id": "b792681d",
   "metadata": {},
   "outputs": [],
   "source": [
    "import numpy as np\n",
    "import MDAnalysis as mda\n",
    "import matplotlib.pyplot as plt"
   ]
  },
  {
   "cell_type": "markdown",
   "id": "ef6c98be",
   "metadata": {},
   "source": [
    "### Loading the trajectory"
   ]
  },
  {
   "cell_type": "code",
   "execution_count": 2,
   "id": "0b7ec18e",
   "metadata": {},
   "outputs": [],
   "source": [
    "u = mda.Universe('../data/initial.pdb','../data/pbc.md.xtc')"
   ]
  },
  {
   "cell_type": "code",
   "execution_count": 38,
   "id": "7a89c778",
   "metadata": {},
   "outputs": [],
   "source": [
    "natoms = u.trajectory.n_atoms\n",
    "nframes = u.trajectory.n_frames\n",
    "dt = u.trajectory.dt\n",
    "units = u.trajectory.units\n",
    "nchains = u.select_atoms('resname ACE and name CH3').n_atoms\n",
    "residues = np.unique(u.residues.resnames)"
   ]
  },
  {
   "cell_type": "code",
   "execution_count": 42,
   "id": "4f8ae3e6",
   "metadata": {},
   "outputs": [
    {
     "name": "stdout",
     "output_type": "stream",
     "text": [
      "There is 10600 atoms in 100 chains\n",
      "There is 101 atoms\n",
      "Trjectory of 50000.0 ps with timestep of 500.0 ps\n",
      "Unique residues  ['ACE' 'GLN' 'GLY' 'NME' 'TYR']\n"
     ]
    }
   ],
   "source": [
    "print(\"There is\", natoms,\"atoms in\", nchains,\"chains\")\n",
    "print(\"There is\", nframes,\"atoms\")\n",
    "print(\"Trjectory of\", u.trajectory.totaltime, units['time'], \"with timestep of\", dt, units['time'])\n",
    "print(\"Unique residues \", residues)"
   ]
  },
  {
   "cell_type": "code",
   "execution_count": 44,
   "id": "71b03379",
   "metadata": {},
   "outputs": [
    {
     "data": {
      "text/plain": [
       "(4.865838465722659, 4.865838465722658)"
      ]
     },
     "execution_count": 44,
     "metadata": {},
     "output_type": "execute_result"
    }
   ],
   "source": [
    "5.602202020202021/1.1513333333333333, 277309.0/56991.0"
   ]
  },
  {
   "cell_type": "code",
   "execution_count": 63,
   "id": "22f54196",
   "metadata": {},
   "outputs": [
    {
     "data": {
      "text/plain": [
       "(438392.3076923077, 447272.5806451613, 0.5602202020202021, 0.11513333333333334)"
      ]
     },
     "execution_count": 63,
     "metadata": {},
     "output_type": "execute_result"
    }
   ],
   "source": [
    "56991/0.13 , 277309/0.62, 277309/495000, 56991/495000"
   ]
  }
 ],
 "metadata": {
  "kernelspec": {
   "display_name": "Python 3 (ipykernel)",
   "language": "python",
   "name": "python3"
  },
  "language_info": {
   "codemirror_mode": {
    "name": "ipython",
    "version": 3
   },
   "file_extension": ".py",
   "mimetype": "text/x-python",
   "name": "python",
   "nbconvert_exporter": "python",
   "pygments_lexer": "ipython3",
   "version": "3.8.10"
  }
 },
 "nbformat": 4,
 "nbformat_minor": 5
}
